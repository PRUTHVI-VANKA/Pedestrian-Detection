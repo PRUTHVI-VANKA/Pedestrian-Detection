{
 "cells": [
  {
   "cell_type": "code",
   "execution_count": 1,
   "id": "893fc696-efe6-4d5f-88d8-ecc19f70e9d7",
   "metadata": {},
   "outputs": [
    {
     "name": "stdout",
     "output_type": "stream",
     "text": [
      "Error: Could not read frame.\n"
     ]
    }
   ],
   "source": [
    "# Importing Packages\n",
    "import cv2\n",
    "import numpy as np\n",
    "import time \n",
    "\n",
    "# Give the path to the cascade fullbody\n",
    "Pedestrian_detection = cv2.CascadeClassifier('C:/Users/vanka/Downloads/haarcascade_fullbody.xml')\n",
    "\n",
    "# Reading CCTV Video\n",
    "CCTV_Video = cv2.VideoCapture('C:/Users/vanka/Downloads/videoplayback.mp4')\n",
    "\n",
    "# If videocapture is successfully opened we will continue with following function\n",
    "while CCTV_Video.isOpened(): \n",
    "    \n",
    "    # secs i defined to pause execution\n",
    "    time.sleep(0.05)  \n",
    "\n",
    "    # Start capturing frames\n",
    "    ret, frame = CCTV_Video.read()\n",
    "    \n",
    "    # Check if frame was read correctly\n",
    "    if not ret:\n",
    "        print(\"Error: Could not read frame.\")\n",
    "        break\n",
    "    \n",
    "    # Resize the captured frame\n",
    "    frame = cv2.resize(frame, None, fx=0.5, fy=0.5, interpolation=cv2.INTER_LINEAR)\n",
    "\n",
    "    # Convert RGB to gray\n",
    "    gray = cv2.cvtColor(frame, cv2.COLOR_BGR2GRAY)\n",
    "    \n",
    "    # Detect pedestrians of different sizes\n",
    "    pedestrian_detected = Pedestrian_detection.detectMultiScale(gray, 1.2, 3)\n",
    "    \n",
    "    # Drawing box when bodies identified\n",
    "    for (x,y,w,h) in pedestrian_detected:\n",
    "        cv2.rectangle(frame, (x, y), (x+w, y+h), (0, 0, 255), 3)\n",
    "        \n",
    "    # Display pedestrians detected using imshow built-in function\n",
    "    cv2.imshow('Pedestrian Detection', frame)\n",
    "\n",
    "    # Check if the user has pressed Esc key\n",
    "    c = cv2.waitKey(1)\n",
    "    if c == 27:  # Esc key ASCII value is 27\n",
    "        break\n",
    "\n",
    "# Close the capturing device and all windows\n",
    "CCTV_Video.release()\n",
    "cv2.destroyAllWindows()"
   ]
  },
  {
   "cell_type": "code",
   "execution_count": null,
   "id": "0c78bb11-a30c-4c2b-92e7-53565b1c7ad9",
   "metadata": {},
   "outputs": [],
   "source": []
  }
 ],
 "metadata": {
  "kernelspec": {
   "display_name": "Python 3 (ipykernel)",
   "language": "python",
   "name": "python3"
  },
  "language_info": {
   "codemirror_mode": {
    "name": "ipython",
    "version": 3
   },
   "file_extension": ".py",
   "mimetype": "text/x-python",
   "name": "python",
   "nbconvert_exporter": "python",
   "pygments_lexer": "ipython3",
   "version": "3.12.4"
  }
 },
 "nbformat": 4,
 "nbformat_minor": 5
}
